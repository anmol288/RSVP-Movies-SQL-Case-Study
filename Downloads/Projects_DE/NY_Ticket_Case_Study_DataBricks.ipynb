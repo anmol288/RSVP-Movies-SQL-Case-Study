{
 "cells": [
  {
   "cell_type": "code",
   "execution_count": 0,
   "metadata": {
    "application/vnd.databricks.v1+cell": {
     "cellMetadata": {
      "byteLimit": 2048000,
      "rowLimit": 10000
     },
     "inputWidgets": {},
     "nuid": "2cf4b517-1240-4f56-8b0a-1080e0e2ec19",
     "showTitle": false,
     "tableResultSettingsMap": {},
     "title": ""
    }
   },
   "outputs": [
    {
     "output_type": "execute_result",
     "data": {
      "text/html": [
       "\n",
       "        <div>\n",
       "            <p><b>SparkContext</b></p>\n",
       "\n",
       "            <p><a href=\"/?o=8118837527719138#setting/sparkui/0929-180903-2mmd8bhp/driver-1414274841256287138\">Spark UI</a></p>\n",
       "\n",
       "            <dl>\n",
       "              <dt>Version</dt>\n",
       "                <dd><code>v3.5.0</code></dd>\n",
       "              <dt>Master</dt>\n",
       "                <dd><code>local[8]</code></dd>\n",
       "              <dt>AppName</dt>\n",
       "                <dd><code>Databricks Shell</code></dd>\n",
       "            </dl>\n",
       "        </div>\n",
       "        "
      ],
      "text/plain": [
       "<SparkContext master=local[8] appName=Databricks Shell>"
      ]
     },
     "execution_count": 1,
     "metadata": {},
     "output_type": "execute_result"
    }
   ],
   "source": [
    "sc"
   ]
  },
  {
   "cell_type": "code",
   "execution_count": 0,
   "metadata": {
    "application/vnd.databricks.v1+cell": {
     "cellMetadata": {
      "byteLimit": 2048000,
      "rowLimit": 10000
     },
     "inputWidgets": {},
     "nuid": "b33c5dda-6e91-41ac-9c2f-2eba6554d902",
     "showTitle": false,
     "tableResultSettingsMap": {},
     "title": ""
    }
   },
   "outputs": [
    {
     "output_type": "execute_result",
     "data": {
      "text/html": [
       "\n",
       "            <div>\n",
       "                <p><b>SparkSession - hive</b></p>\n",
       "                \n",
       "        <div>\n",
       "            <p><b>SparkContext</b></p>\n",
       "\n",
       "            <p><a href=\"/?o=8118837527719138#setting/sparkui/0929-180903-2mmd8bhp/driver-1414274841256287138\">Spark UI</a></p>\n",
       "\n",
       "            <dl>\n",
       "              <dt>Version</dt>\n",
       "                <dd><code>v3.5.0</code></dd>\n",
       "              <dt>Master</dt>\n",
       "                <dd><code>local[8]</code></dd>\n",
       "              <dt>AppName</dt>\n",
       "                <dd><code>Databricks Shell</code></dd>\n",
       "            </dl>\n",
       "        </div>\n",
       "        \n",
       "            </div>\n",
       "        "
      ],
      "text/plain": [
       "<pyspark.sql.session.SparkSession at 0x7f9c9cf36c10>"
      ]
     },
     "execution_count": 2,
     "metadata": {},
     "output_type": "execute_result"
    }
   ],
   "source": [
    "spark"
   ]
  },
  {
   "cell_type": "code",
   "execution_count": 0,
   "metadata": {
    "application/vnd.databricks.v1+cell": {
     "cellMetadata": {
      "byteLimit": 2048000,
      "rowLimit": 10000
     },
     "inputWidgets": {},
     "nuid": "7e6811fe-5502-4c2a-a2d3-f6b6e20df58a",
     "showTitle": false,
     "tableResultSettingsMap": {},
     "title": ""
    }
   },
   "outputs": [
    {
     "output_type": "stream",
     "name": "stdout",
     "output_type": "stream",
     "text": [
      "+--------------+--------+------------------+----------+----------+--------------+-----------------+------------+--------------+------------+------------+------------+-----------------------+------------------+------------------+---------------+-----------+--------------+------------+--------------+-------------------+----------------+---------------------------------+------------+--------------------+-------------------+-------------------+-----------+------------+--------------------+--------------------------+--------------------+------------------+-------------+---------------------+------------+------------+--------------+-------------------+---------------------+---------------------------------+-----------------+------------------------+\n|Summons Number|Plate ID|Registration State|Plate Type|Issue Date|Violation Code|Vehicle Body Type|Vehicle Make|Issuing Agency|Street Code1|Street Code2|Street Code3|Vehicle Expiration Date|Violation Location|Violation Precinct|Issuer Precinct|Issuer Code|Issuer Command|Issuer Squad|Violation Time|Time First Observed|Violation County|Violation In Front Of Or Opposite|House Number|         Street Name|Intersecting Street|Date First Observed|Law Section|Sub Division|Violation Legal Code|Days Parking In Effect    |From Hours In Effect|To Hours In Effect|Vehicle Color|Unregistered Vehicle?|Vehicle Year|Meter Number|Feet From Curb|Violation Post Code|Violation Description|No Standing or Stopping Violation|Hydrant Violation|Double Parking Violation|\n+--------------+--------+------------------+----------+----------+--------------+-----------------+------------+--------------+------------+------------+------------+-----------------------+------------------+------------------+---------------+-----------+--------------+------------+--------------+-------------------+----------------+---------------------------------+------------+--------------------+-------------------+-------------------+-----------+------------+--------------------+--------------------------+--------------------+------------------+-------------+---------------------+------------+------------+--------------+-------------------+---------------------+---------------------------------+-----------------+------------------------+\n|    5092469481| GZH7067|                NY|       PAS|2016-07-10|             7|             SUBN|       TOYOT|             V|           0|           0|           0|                      0|              NULL|                 0|              0|          0|          NULL|        NULL|         0143A|               NULL|              BX|                             NULL|        NULL|ALLERTON AVE (W/B) @|         BARNES AVE|                  0|       1111|           D|                   T|                      NULL|                NULL|              NULL|           GY|                 NULL|        2001|        NULL|             0|               NULL| FAILURE TO STOP A...|                             NULL|             NULL|                    NULL|\n+--------------+--------+------------------+----------+----------+--------------+-----------------+------------+--------------+------------+------------+------------+-----------------------+------------------+------------------+---------------+-----------+--------------+------------+--------------+-------------------+----------------+---------------------------------+------------+--------------------+-------------------+-------------------+-----------+------------+--------------------+--------------------------+--------------------+------------------+-------------+---------------------+------------+------------+--------------+-------------------+---------------------+---------------------------------+-----------------+------------------------+\nonly showing top 1 row\n\n"
     ]
    }
   ],
   "source": [
    "\n",
    "tickets_2017 = spark.read.csv('s3a://upgrad-spark-data/Parking_Violations_Issued_-_Fiscal_Year_2017.csv',inferSchema=True,header=True)\n",
    "tickets_2017.show(1)"
   ]
  },
  {
   "cell_type": "code",
   "execution_count": 0,
   "metadata": {
    "application/vnd.databricks.v1+cell": {
     "cellMetadata": {
      "byteLimit": 2048000,
      "rowLimit": 10000
     },
     "inputWidgets": {},
     "nuid": "d1cf382d-0319-43df-a21e-e11c19f322e9",
     "showTitle": false,
     "tableResultSettingsMap": {},
     "title": ""
    }
   },
   "outputs": [
    {
     "output_type": "stream",
     "name": "stdout",
     "output_type": "stream",
     "text": [
      "root\n |-- Summons Number: long (nullable = true)\n |-- Plate ID: string (nullable = true)\n |-- Registration State: string (nullable = true)\n |-- Plate Type: string (nullable = true)\n |-- Issue Date: date (nullable = true)\n |-- Violation Code: integer (nullable = true)\n |-- Vehicle Body Type: string (nullable = true)\n |-- Vehicle Make: string (nullable = true)\n |-- Issuing Agency: string (nullable = true)\n |-- Street Code1: integer (nullable = true)\n |-- Street Code2: integer (nullable = true)\n |-- Street Code3: integer (nullable = true)\n |-- Vehicle Expiration Date: integer (nullable = true)\n |-- Violation Location: integer (nullable = true)\n |-- Violation Precinct: integer (nullable = true)\n |-- Issuer Precinct: integer (nullable = true)\n |-- Issuer Code: integer (nullable = true)\n |-- Issuer Command: string (nullable = true)\n |-- Issuer Squad: string (nullable = true)\n |-- Violation Time: string (nullable = true)\n |-- Time First Observed: string (nullable = true)\n |-- Violation County: string (nullable = true)\n |-- Violation In Front Of Or Opposite: string (nullable = true)\n |-- House Number: string (nullable = true)\n |-- Street Name: string (nullable = true)\n |-- Intersecting Street: string (nullable = true)\n |-- Date First Observed: integer (nullable = true)\n |-- Law Section: integer (nullable = true)\n |-- Sub Division: string (nullable = true)\n |-- Violation Legal Code: string (nullable = true)\n |-- Days Parking In Effect    : string (nullable = true)\n |-- From Hours In Effect: string (nullable = true)\n |-- To Hours In Effect: string (nullable = true)\n |-- Vehicle Color: string (nullable = true)\n |-- Unregistered Vehicle?: integer (nullable = true)\n |-- Vehicle Year: integer (nullable = true)\n |-- Meter Number: string (nullable = true)\n |-- Feet From Curb: integer (nullable = true)\n |-- Violation Post Code: string (nullable = true)\n |-- Violation Description: string (nullable = true)\n |-- No Standing or Stopping Violation: string (nullable = true)\n |-- Hydrant Violation: string (nullable = true)\n |-- Double Parking Violation: string (nullable = true)\n\n"
     ]
    }
   ],
   "source": [
    "tickets_2017.columns\n",
    "tickets_2017.printSchema()"
   ]
  },
  {
   "cell_type": "code",
   "execution_count": 0,
   "metadata": {
    "application/vnd.databricks.v1+cell": {
     "cellMetadata": {
      "byteLimit": 2048000,
      "rowLimit": 10000
     },
     "inputWidgets": {},
     "nuid": "e8fdb5e5-e247-40f1-b59b-a94e4762ea78",
     "showTitle": false,
     "tableResultSettingsMap": {},
     "title": ""
    }
   },
   "outputs": [],
   "source": []
  },
  {
   "cell_type": "code",
   "execution_count": 0,
   "metadata": {
    "application/vnd.databricks.v1+cell": {
     "cellMetadata": {
      "byteLimit": 2048000,
      "rowLimit": 10000
     },
     "inputWidgets": {},
     "nuid": "5711faf2-017e-4fc1-bbc2-6b3b76c8432d",
     "showTitle": false,
     "tableResultSettingsMap": {},
     "title": ""
    }
   },
   "outputs": [],
   "source": [
    "# Examine the data\n",
    "\n",
    "# Find the total number of tickets for the year.\n",
    "# Find out the number of unique states from where the cars that got parking tickets came. (Hint: Use the column 'Registration State'.)\n",
    "# There is a numeric entry '99' in the column, which should be corrected. Replace it with the state having the maximum entries. Provide the number of unique states again."
   ]
  },
  {
   "cell_type": "code",
   "execution_count": 0,
   "metadata": {
    "application/vnd.databricks.v1+cell": {
     "cellMetadata": {
      "byteLimit": 2048000,
      "rowLimit": 10000
     },
     "inputWidgets": {},
     "nuid": "68e32a81-3df3-4d28-82f9-20df69cd9c52",
     "showTitle": false,
     "tableResultSettingsMap": {},
     "title": ""
    }
   },
   "outputs": [
    {
     "output_type": "execute_result",
     "data": {
      "text/plain": [
       "10803028"
      ]
     },
     "execution_count": 6,
     "metadata": {},
     "output_type": "execute_result"
    }
   ],
   "source": [
    "tickets_2017.count()"
   ]
  },
  {
   "cell_type": "code",
   "execution_count": 0,
   "metadata": {
    "application/vnd.databricks.v1+cell": {
     "cellMetadata": {
      "byteLimit": 2048000,
      "rowLimit": 10000
     },
     "inputWidgets": {},
     "nuid": "fbacece5-bd51-4b7b-acb8-cbf3180280da",
     "showTitle": false,
     "tableResultSettingsMap": {},
     "title": ""
    }
   },
   "outputs": [],
   "source": [
    "# #tickets_2017.select('Registration State').groupBy('Registration State').count().orderBy('count', ascending=False).show(truncate=False)\n",
    "from pyspark.sql.functions import *\n",
    "from pyspark.sql import *\n",
    "\n",
    "td=tickets_2017.withColumn('Registration State',when(tickets_2017['Registration State']=='99','NY').otherwise(tickets_2017['Registration State']))"
   ]
  },
  {
   "cell_type": "code",
   "execution_count": 0,
   "metadata": {
    "application/vnd.databricks.v1+cell": {
     "cellMetadata": {
      "byteLimit": 2048000,
      "rowLimit": 10000
     },
     "inputWidgets": {},
     "nuid": "ac9939e8-211c-43a6-831b-6e98874bca92",
     "showTitle": false,
     "tableResultSettingsMap": {},
     "title": ""
    }
   },
   "outputs": [
    {
     "output_type": "stream",
     "name": "stdout",
     "output_type": "stream",
     "text": [
      "+------------------+-------+\n|Registration State|count  |\n+------------------+-------+\n|NY                |8517686|\n|NJ                |925965 |\n|PA                |285419 |\n|FL                |144556 |\n|CT                |141088 |\n|MA                |85547  |\n|IN                |80749  |\n|VA                |72626  |\n|MD                |61800  |\n|NC                |55806  |\n|IL                |37329  |\n|GA                |36852  |\n|TX                |36516  |\n|AZ                |26426  |\n|OH                |25302  |\n|CA                |24260  |\n|SC                |21836  |\n|ME                |21574  |\n|MN                |18227  |\n|OK                |18165  |\n|TN                |17275  |\n|DE                |16325  |\n|MI                |15703  |\n|RI                |12224  |\n|NH                |8752   |\n|VT                |7367   |\n|AL                |6891   |\n|WA                |6311   |\n|ON                |5601   |\n|OR                |5483   |\n|MO                |4454   |\n|QB                |4406   |\n|DC                |4250   |\n|WI                |4197   |\n|IA                |4186   |\n|CO                |4093   |\n|KY                |3833   |\n|MS                |3599   |\n|LA                |3466   |\n|DP                |3192   |\n|ID                |2920   |\n|AR                |2621   |\n|WV                |2545   |\n|NM                |2322   |\n|SD                |1865   |\n|NV                |1846   |\n|KS                |1501   |\n|NE                |1462   |\n|UT                |1152   |\n|MT                |1032   |\n|AK                |754    |\n|NS                |730    |\n|GV                |704    |\n|ND                |608    |\n|WY                |411    |\n|HI                |408    |\n|AB                |218    |\n|NB                |137    |\n|PE                |128    |\n|BC                |127    |\n|PR                |110    |\n|MB                |40     |\n|SK                |30     |\n|FO                |12     |\n|NT                |4      |\n|MX                |4      |\n+------------------+-------+\n\n"
     ]
    }
   ],
   "source": [
    "td.select('Registration State').groupBy('Registration State').count().orderBy('count', ascending=False).show(1000,truncate=False)\n"
   ]
  },
  {
   "cell_type": "code",
   "execution_count": 0,
   "metadata": {
    "application/vnd.databricks.v1+cell": {
     "cellMetadata": {
      "byteLimit": 2048000,
      "rowLimit": 10000
     },
     "inputWidgets": {},
     "nuid": "566b9663-f064-4397-b0b7-61497eca5e1e",
     "showTitle": false,
     "tableResultSettingsMap": {},
     "title": ""
    }
   },
   "outputs": [
    {
     "output_type": "stream",
     "name": "stdout",
     "output_type": "stream",
     "text": [
      "+------------------+\n|Registration State|\n+------------------+\n|AZ                |\n|SC                |\n|NS                |\n|LA                |\n|MN                |\n|NJ                |\n|DC                |\n|OR                |\n|NT                |\n|VA                |\n|RI                |\n|WY                |\n|KY                |\n|BC                |\n|NH                |\n|MI                |\n|GV                |\n|NV                |\n|QB                |\n|WI                |\n|ID                |\n|CA                |\n|CT                |\n|NE                |\n|MT                |\n|NC                |\n|VT                |\n|MD                |\n|DE                |\n|MO                |\n|IL                |\n|ME                |\n|MB                |\n|WA                |\n|ND                |\n|MS                |\n|AL                |\n|IN                |\n|OH                |\n|TN                |\n|IA                |\n|NM                |\n|PA                |\n|SD                |\n|FO                |\n|NY                |\n|ON                |\n|SK                |\n|AB                |\n|PE                |\n|TX                |\n|WV                |\n|GA                |\n|MA                |\n|KS                |\n|FL                |\n|CO                |\n|AK                |\n|AR                |\n|NB                |\n|OK                |\n|PR                |\n|UT                |\n|HI                |\n|DP                |\n|MX                |\n+------------------+\n\n"
     ]
    }
   ],
   "source": [
    "td.select('Registration State').distinct().show(68,truncate=False)"
   ]
  },
  {
   "cell_type": "code",
   "execution_count": 0,
   "metadata": {
    "application/vnd.databricks.v1+cell": {
     "cellMetadata": {
      "byteLimit": 2048000,
      "rowLimit": 10000
     },
     "inputWidgets": {},
     "nuid": "17888715-3f36-4a4e-b44a-2d0094471273",
     "showTitle": false,
     "tableResultSettingsMap": {},
     "title": ""
    }
   },
   "outputs": [],
   "source": [
    "# Aggregation tasks\n",
    "\n",
    "# How often does each violation code occur? Display the frequency of the top five violation codes.\n",
    "# How often does each 'vehicle body type' get a parking ticket? How about the 'vehicle make'? (Hint: Find the top 5 for both.)"
   ]
  },
  {
   "cell_type": "code",
   "execution_count": 0,
   "metadata": {
    "application/vnd.databricks.v1+cell": {
     "cellMetadata": {
      "byteLimit": 2048000,
      "rowLimit": 10000
     },
     "inputWidgets": {},
     "nuid": "a549ef15-3ac0-49f6-8f65-93a1ad82baf2",
     "showTitle": false,
     "tableResultSettingsMap": {},
     "title": ""
    }
   },
   "outputs": [
    {
     "output_type": "stream",
     "name": "stdout",
     "output_type": "stream",
     "text": [
      "+--------------+-------+\n|violation code|  total|\n+--------------+-------+\n|            21|1528588|\n|            36|1400614|\n|            38|1062304|\n|            14| 893498|\n|            20| 618593|\n+--------------+-------+\n\n"
     ]
    }
   ],
   "source": [
    "spark.sql('select `violation code`,count(*) as total from {td} group by `violation code` order by total desc limit 5',td=td).show()"
   ]
  },
  {
   "cell_type": "code",
   "execution_count": 0,
   "metadata": {
    "application/vnd.databricks.v1+cell": {
     "cellMetadata": {
      "byteLimit": 2048000,
      "rowLimit": 10000
     },
     "inputWidgets": {},
     "nuid": "132a0baa-95bf-4dc3-89eb-514d0701ba13",
     "showTitle": false,
     "tableResultSettingsMap": {},
     "title": ""
    }
   },
   "outputs": [
    {
     "output_type": "stream",
     "name": "stdout",
     "output_type": "stream",
     "text": [
      "+-----------------+-------+\n|vehicle body type|total  |\n+-----------------+-------+\n|SUBN             |3719802|\n|4DSD             |3082020|\n|VAN              |1411970|\n|DELV             |687330 |\n|SDN              |438191 |\n+-----------------+-------+\n\n"
     ]
    }
   ],
   "source": [
    "spark.sql('select `vehicle body type`,count(*) as total from {td} group by `vehicle body type` order by total desc limit 5',td=td).show(truncate=False)"
   ]
  },
  {
   "cell_type": "code",
   "execution_count": 0,
   "metadata": {
    "application/vnd.databricks.v1+cell": {
     "cellMetadata": {
      "byteLimit": 2048000,
      "rowLimit": 10000
     },
     "inputWidgets": {},
     "nuid": "8150f05f-4bee-4468-8071-ab016dcaff6e",
     "showTitle": false,
     "tableResultSettingsMap": {},
     "title": ""
    }
   },
   "outputs": [
    {
     "output_type": "stream",
     "name": "stdout",
     "output_type": "stream",
     "text": [
      "+------------+-------+\n|vehicle make|total  |\n+------------+-------+\n|FORD        |1280958|\n|TOYOT       |1211451|\n|HONDA       |1079238|\n|NISSA       |918590 |\n|CHEVR       |714655 |\n+------------+-------+\n\n"
     ]
    }
   ],
   "source": [
    "spark.sql('select `vehicle make`,count(*) as total from {td} group by `vehicle make` order by total desc limit 5',td=td).show(truncate=False)"
   ]
  },
  {
   "cell_type": "code",
   "execution_count": 0,
   "metadata": {
    "application/vnd.databricks.v1+cell": {
     "cellMetadata": {
      "byteLimit": 2048000,
      "rowLimit": 10000
     },
     "inputWidgets": {},
     "nuid": "9346e6a4-2a41-4b13-8e4b-4e02f52066e5",
     "showTitle": false,
     "tableResultSettingsMap": {},
     "title": ""
    }
   },
   "outputs": [
    {
     "output_type": "stream",
     "name": "stdout",
     "output_type": "stream",
     "text": [
      "+------------------+-------+\n|violation precinct|total  |\n+------------------+-------+\n|0                 |2072400|\n|19                |535671 |\n|14                |352450 |\n|1                 |331810 |\n|18                |306920 |\n|114               |296514 |\n+------------------+-------+\n\n"
     ]
    }
   ],
   "source": [
    "#3\n",
    "spark.sql('select `violation precinct`,count(*) as total from {td} group by `violation precinct` order by total desc limit 6',td=td).show(truncate=False)"
   ]
  },
  {
   "cell_type": "code",
   "execution_count": 0,
   "metadata": {
    "application/vnd.databricks.v1+cell": {
     "cellMetadata": {
      "byteLimit": 2048000,
      "rowLimit": 10000
     },
     "inputWidgets": {},
     "nuid": "8d160836-76c9-47f7-90c4-19dab5bb9dda",
     "showTitle": false,
     "tableResultSettingsMap": {},
     "title": ""
    }
   },
   "outputs": [
    {
     "output_type": "stream",
     "name": "stdout",
     "output_type": "stream",
     "text": [
      "+---------------+-------+\n|issuer precinct|total  |\n+---------------+-------+\n|0              |2388479|\n|19             |521513 |\n|14             |344977 |\n|1              |321170 |\n|18             |296553 |\n|114            |289950 |\n+---------------+-------+\n\n"
     ]
    }
   ],
   "source": [
    "spark.sql('select `issuer precinct`,count(*) as total from {td} group by `issuer precinct` order by total desc limit 6',td=td).show(truncate=False)"
   ]
  },
  {
   "cell_type": "code",
   "execution_count": 0,
   "metadata": {
    "application/vnd.databricks.v1+cell": {
     "cellMetadata": {
      "byteLimit": 2048000,
      "rowLimit": 10000
     },
     "inputWidgets": {},
     "nuid": "054f4e79-2707-4c0b-b660-e0ead735e28a",
     "showTitle": false,
     "tableResultSettingsMap": {},
     "title": ""
    }
   },
   "outputs": [
    {
     "output_type": "stream",
     "name": "stdout",
     "output_type": "stream",
     "text": [
      "+---------------+--------------+-----+\n|Issuer Precinct|violation code|total|\n+---------------+--------------+-----+\n|19             |46            |86197|\n|19             |37            |72437|\n|19             |38            |72341|\n|19             |14            |57523|\n|19             |21            |54699|\n+---------------+--------------+-----+\n\n"
     ]
    }
   ],
   "source": [
    "#4\n",
    "# Find the violation code frequencies for three precincts that have issued the most number of tickets. Do these precinct zones have an exceptionally high frequency of certain violation codes? Are these codes common across precincts? \n",
    "#(Hint: In the SQL view, use the 'where' attribute to filter among three precincts.)\n",
    "\n",
    "spark.sql('select `Issuer Precinct`,`violation code`,count(*) as total from {td} where `violation precinct`=19 group by `violation code`,`Issuer Precinct` order by total desc limit 5',td=td).show(truncate=False)"
   ]
  },
  {
   "cell_type": "code",
   "execution_count": 0,
   "metadata": {
    "application/vnd.databricks.v1+cell": {
     "cellMetadata": {
      "byteLimit": 2048000,
      "rowLimit": 10000
     },
     "inputWidgets": {},
     "nuid": "5678258f-2707-4b03-944d-ecf3bb151f9d",
     "showTitle": false,
     "tableResultSettingsMap": {},
     "title": ""
    }
   },
   "outputs": [
    {
     "output_type": "stream",
     "name": "stdout",
     "output_type": "stream",
     "text": [
      "+---------------+--------------+-----+\n|Issuer Precinct|violation code|total|\n+---------------+--------------+-----+\n|14             |14            |73703|\n|14             |69            |58026|\n|14             |31            |39851|\n|14             |47            |30534|\n|14             |42            |20663|\n+---------------+--------------+-----+\n\n"
     ]
    }
   ],
   "source": [
    "spark.sql('select `Issuer Precinct`,`violation code`,count(*) as total from {td} where `violation precinct`=14 group by `violation code`,`Issuer Precinct` order by total desc limit 5',td=td).show(truncate=False)"
   ]
  },
  {
   "cell_type": "code",
   "execution_count": 0,
   "metadata": {
    "application/vnd.databricks.v1+cell": {
     "cellMetadata": {
      "byteLimit": 2048000,
      "rowLimit": 10000
     },
     "inputWidgets": {},
     "nuid": "a1e8f4ba-6383-41ba-96cd-ed94be87bdb5",
     "showTitle": false,
     "tableResultSettingsMap": {},
     "title": ""
    }
   },
   "outputs": [
    {
     "output_type": "stream",
     "name": "stdout",
     "output_type": "stream",
     "text": [
      "+---------------+--------------+-----+\n|Issuer Precinct|violation code|total|\n+---------------+--------------+-----+\n|1              |14            |72766|\n|1              |16            |38915|\n|1              |20            |26722|\n|1              |46            |22435|\n|1              |38            |16981|\n+---------------+--------------+-----+\n\n"
     ]
    }
   ],
   "source": [
    "spark.sql('select `Issuer Precinct`,`violation code`,count(*) as total from {td} where `violation precinct`=1 group by `violation code`,`Issuer Precinct` order by total desc limit 5',td=td).show(truncate=False)"
   ]
  },
  {
   "cell_type": "code",
   "execution_count": 0,
   "metadata": {
    "application/vnd.databricks.v1+cell": {
     "cellMetadata": {
      "byteLimit": 2048000,
      "rowLimit": 10000
     },
     "inputWidgets": {},
     "nuid": "67945907-56a2-43aa-bf94-2b079cbc143f",
     "showTitle": false,
     "tableResultSettingsMap": {},
     "title": ""
    }
   },
   "outputs": [
    {
     "output_type": "stream",
     "name": "stdout",
     "output_type": "stream",
     "text": [
      "+-----+\n|count|\n+-----+\n|   63|\n+-----+\n\n"
     ]
    }
   ],
   "source": [
    "# Find out the properties of parking violations across different times of the day:\n",
    "# Find a way to deal with missing values, if any.\n",
    "# (Hint: Check for the null values using 'isNull' under the SQL. Also, to remove the null values, check the 'dropna' command in the API documentation.)\n",
    "\n",
    "# The Violation Time field is specified in a strange format. Find a way to make this a time attribute that you can use to divide into groups.\n",
    "\n",
    "# Divide 24 hours into six equal discrete bins of time. Choose the intervals as you see fit. For each of these groups, find the three most commonly occurring violations.\n",
    "# (Hint: Use the CASE-WHEN in SQL view to segregate into bins. To find the most commonly occurring violations, you can use an approach similar to the one mentioned in the hint for question 4.)\n",
    "\n",
    "# Now, try another direction. For the three most commonly occurring violation codes, find the most common time of the day (in terms of the bins from the previous part).\n",
    "\n",
    "\n",
    "spark.sql(\"select count(*) as count\\\n",
    "                 FROM {td} where `Violation Time` is Null\",td=td).show()"
   ]
  },
  {
   "cell_type": "code",
   "execution_count": 0,
   "metadata": {
    "application/vnd.databricks.v1+cell": {
     "cellMetadata": {
      "byteLimit": 2048000,
      "rowLimit": 10000
     },
     "inputWidgets": {},
     "nuid": "cc184e92-2478-4db3-a946-d3d7c58ef906",
     "showTitle": false,
     "tableResultSettingsMap": {},
     "title": ""
    }
   },
   "outputs": [
    {
     "output_type": "stream",
     "name": "stdout",
     "output_type": "stream",
     "text": [
      "Help on method dropna in module pyspark.sql.dataframe:\n\ndropna(how: str = 'any', thresh: Optional[int] = None, subset: Union[str, Tuple[str, ...], List[str], NoneType] = None) -> 'DataFrame' method of pyspark.sql.dataframe.DataFrame instance\n    Returns a new :class:`DataFrame` omitting rows with null values.\n    :func:`DataFrame.dropna` and :func:`DataFrameNaFunctions.drop` are\n    aliases of each other.\n    \n    .. versionadded:: 1.3.1\n    \n    .. versionchanged:: 3.4.0\n        Supports Spark Connect.\n    \n    Parameters\n    ----------\n    how : str, optional, the values that can be 'any' or 'all', default 'any'.\n        If 'any', drop a row if it contains any nulls.\n        If 'all', drop a row only if all its values are null.\n    thresh: int, optional, default None.\n        If specified, drop rows that have less than `thresh` non-null values.\n        This overwrites the `how` parameter.\n    subset : str, tuple or list, optional\n        optional list of column names to consider.\n    \n    Returns\n    -------\n    :class:`DataFrame`\n        DataFrame with null only rows excluded.\n    \n    Examples\n    --------\n    >>> from pyspark.sql import Row\n    >>> df = spark.createDataFrame([\n    ...     Row(age=10, height=80, name=\"Alice\"),\n    ...     Row(age=5, height=None, name=\"Bob\"),\n    ...     Row(age=None, height=None, name=\"Tom\"),\n    ...     Row(age=None, height=None, name=None),\n    ... ])\n    \n    Example 1: Drop the row if it contains any nulls.\n    \n    >>> df.na.drop().show()\n    +---+------+-----+\n    |age|height| name|\n    +---+------+-----+\n    | 10|    80|Alice|\n    +---+------+-----+\n    \n    Example 2: Drop the row only if all its values are null.\n    \n    >>> df.na.drop(how='all').show()\n    +----+------+-----+\n    | age|height| name|\n    +----+------+-----+\n    |  10|    80|Alice|\n    |   5|  NULL|  Bob|\n    |NULL|  NULL|  Tom|\n    +----+------+-----+\n    \n    Example 3: Drop rows that have less than `thresh` non-null values.\n    \n    >>> df.na.drop(thresh=2).show()\n    +---+------+-----+\n    |age|height| name|\n    +---+------+-----+\n    | 10|    80|Alice|\n    |  5|  NULL|  Bob|\n    +---+------+-----+\n    \n    Example 4: Drop rows with non-null values in the specified columns.\n    \n    >>> df.na.drop(subset=['age', 'name']).show()\n    +---+------+-----+\n    |age|height| name|\n    +---+------+-----+\n    | 10|    80|Alice|\n    |  5|  NULL|  Bob|\n    +---+------+-----+\n\n"
     ]
    }
   ],
   "source": [
    "help(td.dropna)"
   ]
  },
  {
   "cell_type": "code",
   "execution_count": 0,
   "metadata": {
    "application/vnd.databricks.v1+cell": {
     "cellMetadata": {
      "byteLimit": 2048000,
      "rowLimit": 10000
     },
     "inputWidgets": {},
     "nuid": "4087a72e-d9b5-4e30-a2ea-216aec1bbc1c",
     "showTitle": false,
     "tableResultSettingsMap": {},
     "title": ""
    }
   },
   "outputs": [
    {
     "output_type": "execute_result",
     "data": {
      "text/plain": [
       "10802965"
      ]
     },
     "execution_count": 21,
     "metadata": {},
     "output_type": "execute_result"
    }
   ],
   "source": [
    "null_values=td.dropna(subset='Violation Time')\n",
    "null_values.count()"
   ]
  },
  {
   "cell_type": "code",
   "execution_count": 0,
   "metadata": {
    "application/vnd.databricks.v1+cell": {
     "cellMetadata": {
      "byteLimit": 2048000,
      "rowLimit": 10000
     },
     "inputWidgets": {},
     "nuid": "e2a708ab-efb4-474b-9651-52b93bb5e9b4",
     "showTitle": false,
     "tableResultSettingsMap": {},
     "title": ""
    }
   },
   "outputs": [
    {
     "output_type": "stream",
     "name": "stdout",
     "output_type": "stream",
     "text": [
      "+-----+\n|count|\n+-----+\n|    0|\n+-----+\n\n"
     ]
    }
   ],
   "source": [
    "spark.sql(\"select count(*) as count\\\n",
    "                 FROM {null_values} where `Violation Time` is Null\",null_values=null_values).show()"
   ]
  },
  {
   "cell_type": "code",
   "execution_count": 0,
   "metadata": {
    "application/vnd.databricks.v1+cell": {
     "cellMetadata": {
      "byteLimit": 2048000,
      "rowLimit": 10000
     },
     "inputWidgets": {},
     "nuid": "7bf49e60-ffb4-49ce-a7b7-de15dc352bfe",
     "showTitle": false,
     "tableResultSettingsMap": {},
     "title": ""
    }
   },
   "outputs": [],
   "source": [
    " data=null_values"
   ]
  },
  {
   "cell_type": "code",
   "execution_count": 0,
   "metadata": {
    "application/vnd.databricks.v1+cell": {
     "cellMetadata": {
      "byteLimit": 2048000,
      "rowLimit": 10000
     },
     "inputWidgets": {},
     "nuid": "e46c0a4c-7760-445c-a29e-4ca49d6a2dd4",
     "showTitle": false,
     "tableResultSettingsMap": {},
     "title": ""
    }
   },
   "outputs": [
    {
     "output_type": "execute_result",
     "data": {
      "text/plain": [
       "10802965"
      ]
     },
     "execution_count": 24,
     "metadata": {},
     "output_type": "execute_result"
    }
   ],
   "source": [
    "data.count()"
   ]
  },
  {
   "cell_type": "code",
   "execution_count": 0,
   "metadata": {
    "application/vnd.databricks.v1+cell": {
     "cellMetadata": {
      "byteLimit": 2048000,
      "rowLimit": 10000
     },
     "inputWidgets": {},
     "nuid": "6542962b-0f73-41d8-8d41-38fa7cf7e818",
     "showTitle": false,
     "tableResultSettingsMap": {},
     "title": ""
    }
   },
   "outputs": [],
   "source": []
  },
  {
   "cell_type": "code",
   "execution_count": 0,
   "metadata": {
    "application/vnd.databricks.v1+cell": {
     "cellMetadata": {
      "byteLimit": 2048000,
      "rowLimit": 10000
     },
     "inputWidgets": {},
     "nuid": "f1ea8285-ac41-424a-a08e-b6981e013495",
     "showTitle": false,
     "tableResultSettingsMap": {},
     "title": ""
    }
   },
   "outputs": [
    {
     "output_type": "stream",
     "name": "stdout",
     "output_type": "stream",
     "text": [
      "+--------------+--------------+--------------+\n|Violation code|Violation Time|Violation_Time|\n+--------------+--------------+--------------+\n|             7|         0143A|       01:43AM|\n|             7|         0400P|       16:00PM|\n|             5|         0233P|       14:33PM|\n|            47|         1120A|       11:20AM|\n|            69|         0555P|       17:55PM|\n|             7|         0852P|       20:52PM|\n|            40|         0215A|       02:15AM|\n|            36|         0758A|       07:58AM|\n|            36|         1005A|       10:05AM|\n|             5|         0845A|       08:45AM|\n+--------------+--------------+--------------+\nonly showing top 10 rows\n\n"
     ]
    }
   ],
   "source": [
    "data1=spark.sql(\"SELECT `Violation code`,`Violation Time`\\\n",
    "    ,CASE WHEN substring(`violation time`,-1) = 'A' THEN concat(substring(`violation time`,1,2),':',substring(`violation time`,3,3),'M') \\\n",
    "        ELSE concat(int(substring(`violation time`,1,2))+12,':',substring(`violation time`,3,3),'M')\\\n",
    "             END as Violation_Time FROM {data}\",data=data)\n",
    "\n",
    "data1.show(10)"
   ]
  },
  {
   "cell_type": "code",
   "execution_count": 0,
   "metadata": {
    "application/vnd.databricks.v1+cell": {
     "cellMetadata": {
      "byteLimit": 2048000,
      "rowLimit": 10000
     },
     "inputWidgets": {},
     "nuid": "5dcde25d-a553-4843-8e39-5fbf5aad2a99",
     "showTitle": false,
     "tableResultSettingsMap": {},
     "title": ""
    }
   },
   "outputs": [
    {
     "output_type": "stream",
     "name": "stdout",
     "output_type": "stream",
     "text": [
      "+--------------+--------------+-------------+\n|Violation_Time|Violation Code|         bins|\n+--------------+--------------+-------------+\n|       01:43AM|             7|   Late_night|\n|       16:00PM|             7|    Afternoon|\n|       14:33PM|             5|    Afternoon|\n|       11:20AM|            47|      Morning|\n|       17:55PM|            69|      Evening|\n|       20:52PM|             7|      Evening|\n|       02:15AM|            40|   Late_night|\n|       07:58AM|            36|Early_Morning|\n|       10:05AM|            36|      Morning|\n|       08:45AM|             5|Early_Morning|\n+--------------+--------------+-------------+\nonly showing top 10 rows\n\n"
     ]
    }
   ],
   "source": [
    "data2=spark.sql('''select `Violation_Time`,`Violation Code`,case WHEN  (int( substring (`Violation_time`,1,2))) between 00 and 04 then 'Late_night' \n",
    "                         WHEN  (int( substring (`Violation_time`,1,2))) between 05 and 08 then 'Early_Morning' \n",
    "                         WHEN  (int( substring (`Violation_time`,1,2))) between 09 and 12 then 'Morning' \n",
    "                         WHEN  (int( substring (`Violation_time`,1,2))) between 13 and 16 then 'Afternoon' \n",
    "                         WHEN  (int( substring (`Violation_time`,1,2))) between 17 and 20 then 'Evening' \n",
    "                         Else 'Night' \n",
    "                         end as bins from {data1}''',data1=data1)\n",
    "data2.show(10)"
   ]
  },
  {
   "cell_type": "code",
   "execution_count": 0,
   "metadata": {
    "application/vnd.databricks.v1+cell": {
     "cellMetadata": {
      "byteLimit": 2048000,
      "rowLimit": 10000
     },
     "inputWidgets": {},
     "nuid": "2eca4e83-a271-4ea8-af62-29ecb182f586",
     "showTitle": false,
     "tableResultSettingsMap": {},
     "title": ""
    }
   },
   "outputs": [
    {
     "output_type": "stream",
     "name": "stdout",
     "output_type": "stream",
     "text": [
      "+-----+--------------+------+\n| bins|violation code| total|\n+-----+--------------+------+\n|Night|            36|211434|\n|Night|            21|144004|\n|Night|            38|135350|\n|Night|            14| 88122|\n|Night|            37| 77726|\n|Night|             7| 77714|\n|Night|            46| 73428|\n|Night|            20| 64529|\n|Night|            40| 63603|\n|Night|            71| 52246|\n+-----+--------------+------+\nonly showing top 10 rows\n\n"
     ]
    }
   ],
   "source": [
    "spark.sql('select bins,`violation code`,count(*) as total from {data2} where bins=\"Night\" group by bins,`violation code` order by total desc',data2=data2).show(10)"
   ]
  },
  {
   "cell_type": "code",
   "execution_count": 0,
   "metadata": {
    "application/vnd.databricks.v1+cell": {
     "cellMetadata": {
      "byteLimit": 2048000,
      "rowLimit": 10000
     },
     "inputWidgets": {},
     "nuid": "22ca8cb2-2bee-4ee3-9369-f6f3d4921590",
     "showTitle": false,
     "tableResultSettingsMap": {},
     "title": ""
    }
   },
   "outputs": [
    {
     "output_type": "stream",
     "name": "stdout",
     "output_type": "stream",
     "text": [
      "+----------+--------------+-----+\n|      bins|violation code|total|\n+----------+--------------+-----+\n|Late_night|            21|74996|\n|Late_night|            40|52000|\n|Late_night|            78|31628|\n|Late_night|            14|31530|\n|Late_night|            20|24986|\n|Late_night|             7|20412|\n|Late_night|            85|13534|\n|Late_night|            46|12405|\n|Late_night|            19|11173|\n|Late_night|            71| 8701|\n+----------+--------------+-----+\nonly showing top 10 rows\n\n"
     ]
    }
   ],
   "source": [
    "spark.sql('select bins,`violation code`,count(*) as total from {data2} where bins=\"Late_night\" group by bins,`violation code` order by total desc',data2=data2).show(10)"
   ]
  },
  {
   "cell_type": "code",
   "execution_count": 0,
   "metadata": {
    "application/vnd.databricks.v1+cell": {
     "cellMetadata": {
      "byteLimit": 2048000,
      "rowLimit": 10000
     },
     "inputWidgets": {},
     "nuid": "3e2498e6-0838-4849-8364-04e2d5c69f81",
     "showTitle": false,
     "tableResultSettingsMap": {},
     "title": ""
    }
   },
   "outputs": [],
   "source": []
  },
  {
   "cell_type": "code",
   "execution_count": 0,
   "metadata": {
    "application/vnd.databricks.v1+cell": {
     "cellMetadata": {
      "byteLimit": 2048000,
      "rowLimit": 10000
     },
     "inputWidgets": {},
     "nuid": "50671d78-e41b-4998-af2a-77eee98bd8ec",
     "showTitle": false,
     "tableResultSettingsMap": {},
     "title": ""
    }
   },
   "outputs": [
    {
     "output_type": "stream",
     "name": "stdout",
     "output_type": "stream",
     "text": [
      "+-------------+--------------+------+\n|         bins|violation code| total|\n+-------------+--------------+------+\n|Early_Morning|            21|498338|\n|Early_Morning|            14|207958|\n|Early_Morning|            36|170484|\n|Early_Morning|            40|139382|\n|Early_Morning|            20|129826|\n|Early_Morning|            71| 85693|\n|Early_Morning|             7| 62859|\n|Early_Morning|            46| 57440|\n|Early_Morning|            38| 52544|\n|Early_Morning|            19| 47441|\n+-------------+--------------+------+\nonly showing top 10 rows\n\n"
     ]
    }
   ],
   "source": [
    "spark.sql('select bins,`violation code`,count(*) as total from {data2} where bins=\"Early_Morning\" group by bins,`violation code` order by total desc',data2=data2).show(10)"
   ]
  },
  {
   "cell_type": "code",
   "execution_count": 0,
   "metadata": {
    "application/vnd.databricks.v1+cell": {
     "cellMetadata": {
      "byteLimit": 2048000,
      "rowLimit": 10000
     },
     "inputWidgets": {},
     "nuid": "779c29ef-3ad3-4b6a-858f-6ef55800b801",
     "showTitle": false,
     "tableResultSettingsMap": {},
     "title": ""
    }
   },
   "outputs": [
    {
     "output_type": "stream",
     "name": "stdout",
     "output_type": "stream",
     "text": [
      "+-------+--------------+------+\n|   bins|violation code| total|\n+-------+--------------+------+\n|Morning|            21|806290|\n|Morning|            36|614877|\n|Morning|            38|296251|\n|Morning|            14|208171|\n|Morning|            46|190134|\n|Morning|            71|149799|\n|Morning|            20|130159|\n|Morning|            40|104270|\n|Morning|            37| 98952|\n|Morning|             7| 91230|\n+-------+--------------+------+\nonly showing top 10 rows\n\n"
     ]
    }
   ],
   "source": [
    "spark.sql('select bins,`violation code`,count(*) as total from {data2} where bins=\"Morning\" group by bins,`violation code` order by total desc',data2=data2).show(10)"
   ]
  },
  {
   "cell_type": "code",
   "execution_count": 0,
   "metadata": {
    "application/vnd.databricks.v1+cell": {
     "cellMetadata": {
      "byteLimit": 2048000,
      "rowLimit": 10000
     },
     "inputWidgets": {},
     "nuid": "65a1c1e2-ecf7-46e2-bffc-0df0e1c3fd4d",
     "showTitle": false,
     "tableResultSettingsMap": {},
     "title": ""
    }
   },
   "outputs": [
    {
     "output_type": "stream",
     "name": "stdout",
     "output_type": "stream",
     "text": [
      "+---------+--------------+------+\n|     bins|violation code| total|\n+---------+--------------+------+\n|Afternoon|            38|453644|\n|Afternoon|            36|394403|\n|Afternoon|            37|339739|\n|Afternoon|            14|279225|\n|Afternoon|            20|215705|\n|Afternoon|            46|209327|\n|Afternoon|            71|190989|\n|Afternoon|             7|151209|\n|Afternoon|            40|123009|\n|Afternoon|            70| 99882|\n+---------+--------------+------+\nonly showing top 10 rows\n\n"
     ]
    }
   ],
   "source": [
    "spark.sql('select bins,`violation code`,count(*) as total from {data2} where bins=\"Afternoon\" group by bins,`violation code` order by total desc',data2=data2).show(10)"
   ]
  },
  {
   "cell_type": "code",
   "execution_count": 0,
   "metadata": {
    "application/vnd.databricks.v1+cell": {
     "cellMetadata": {
      "byteLimit": 2048000,
      "rowLimit": 10000
     },
     "inputWidgets": {},
     "nuid": "19b4f0a0-4407-45e1-92c7-9ecc61372c66",
     "showTitle": false,
     "tableResultSettingsMap": {},
     "title": ""
    }
   },
   "outputs": [
    {
     "output_type": "stream",
     "name": "stdout",
     "output_type": "stream",
     "text": [
      "+-------+--------------+------+\n|   bins|violation code| total|\n+-------+--------------+------+\n|Evening|            38|124026|\n|Evening|             7|112971|\n|Evening|            14| 78491|\n|Evening|            37| 77800|\n|Evening|            46| 57278|\n|Evening|            20| 53388|\n|Evening|             5| 45151|\n|Evening|            40| 37349|\n|Evening|            71| 33880|\n|Evening|            19| 26310|\n+-------+--------------+------+\nonly showing top 10 rows\n\n"
     ]
    }
   ],
   "source": [
    "spark.sql('select bins,`violation code`,count(*) as total from {data2} where bins=\"Evening\" group by bins,`violation code` order by total desc',data2=data2).show(10)"
   ]
  },
  {
   "cell_type": "code",
   "execution_count": 0,
   "metadata": {
    "application/vnd.databricks.v1+cell": {
     "cellMetadata": {
      "byteLimit": 2048000,
      "rowLimit": 10000
     },
     "inputWidgets": {},
     "nuid": "5329f03a-5269-4ce5-bc86-e7febf75bdec",
     "showTitle": false,
     "tableResultSettingsMap": {},
     "title": ""
    }
   },
   "outputs": [],
   "source": []
  }
 ],
 "metadata": {
  "application/vnd.databricks.v1+notebook": {
   "computePreferences": null,
   "dashboards": [],
   "environmentMetadata": null,
   "inputWidgetPreferences": null,
   "language": "python",
   "notebookMetadata": {
    "pythonIndentUnit": 4
   },
   "notebookName": "NY Ticket Case Study",
   "widgets": {}
  }
 },
 "nbformat": 4,
 "nbformat_minor": 0
}